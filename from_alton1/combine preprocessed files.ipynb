{
 "metadata": {
  "name": "",
  "signature": "sha256:f80765f82306e371b549d272fbbc65d89424f18cf81cef517b46ed886877a8c9"
 },
 "nbformat": 3,
 "nbformat_minor": 0,
 "worksheets": [
  {
   "cells": [
    {
     "cell_type": "code",
     "collapsed": false,
     "input": [
      "# connect to spark\n",
      "\n",
      "# Configure the necessary Spark environment\n",
      "import os\n",
      "os.environ['SPARK_HOME'] = '/opt/spark/'\n",
      "\n",
      "# And Python path\n",
      "import sys\n",
      "sys.path.insert(0, '/opt/spark/python')\n",
      "\n",
      "# Detect the PySpark URL\n",
      "CLUSTER_URL = 'spark://alexander1:7077'"
     ],
     "language": "python",
     "metadata": {},
     "outputs": [],
     "prompt_number": 23
    },
    {
     "cell_type": "code",
     "collapsed": false,
     "input": [
      "from pyspark import SparkContext\n",
      "sc = SparkContext( CLUSTER_URL, 'pyspark')"
     ],
     "language": "python",
     "metadata": {},
     "outputs": [],
     "prompt_number": 34
    },
    {
     "cell_type": "code",
     "collapsed": false,
     "input": [
      "# read all files from a directory into one file\n",
      "\n",
      "listoffiles = sc.wholeTextFiles(\"hdfs://alexander1:9000/user/root/seizure-data-preprocessed\")"
     ],
     "language": "python",
     "metadata": {},
     "outputs": [],
     "prompt_number": 35
    },
    {
     "cell_type": "code",
     "collapsed": false,
     "input": [
      "finalresults = listoffiles.collect()"
     ],
     "language": "python",
     "metadata": {},
     "outputs": [],
     "prompt_number": 36
    },
    {
     "cell_type": "code",
     "collapsed": false,
     "input": [
      "# write the results to a file\n",
      "f = open('results.csv','w')\n",
      "\n",
      "for eachfile in finalresults:\n",
      "    f.write(eachfile[1]+\"\\n\") # python will convert \\n to os.linesep\n",
      "\n",
      "f.close() # you can omit in most cases as the destructor will call if"
     ],
     "language": "python",
     "metadata": {},
     "outputs": [],
     "prompt_number": 37
    },
    {
     "cell_type": "code",
     "collapsed": false,
     "input": [
      "sc.stop()"
     ],
     "language": "python",
     "metadata": {},
     "outputs": [],
     "prompt_number": 39
    },
    {
     "cell_type": "code",
     "collapsed": false,
     "input": [
      "\n",
      "\n",
      "\n",
      "\n",
      "\n",
      "\n",
      "\n",
      "\n",
      "\n",
      "\n",
      "\n",
      "# read as binary file\n",
      "f = read(\"/hdfs/tmp.mat\", \"rb\")"
     ],
     "language": "python",
     "metadata": {},
     "outputs": [
      {
       "ename": "NameError",
       "evalue": "name 'read' is not defined",
       "output_type": "pyerr",
       "traceback": [
        "\u001b[1;31m---------------------------------------------------------------------------\u001b[0m\n\u001b[1;31mNameError\u001b[0m                                 Traceback (most recent call last)",
        "\u001b[1;32m<ipython-input-33-0d70b291d55e>\u001b[0m in \u001b[0;36m<module>\u001b[1;34m()\u001b[0m\n\u001b[0;32m      1\u001b[0m \u001b[1;31m# read as binary file\u001b[0m\u001b[1;33m\u001b[0m\u001b[1;33m\u001b[0m\u001b[0m\n\u001b[1;32m----> 2\u001b[1;33m \u001b[0mf\u001b[0m \u001b[1;33m=\u001b[0m \u001b[0mread\u001b[0m\u001b[1;33m(\u001b[0m\u001b[1;34m\"/hdfs/tmp.mat\"\u001b[0m\u001b[1;33m,\u001b[0m \u001b[1;34m\"rb\"\u001b[0m\u001b[1;33m)\u001b[0m\u001b[1;33m\u001b[0m\u001b[0m\n\u001b[0m",
        "\u001b[1;31mNameError\u001b[0m: name 'read' is not defined"
       ]
      }
     ],
     "prompt_number": 33
    },
    {
     "cell_type": "code",
     "collapsed": false,
     "input": [
      "# test one at a time\n",
      "import scipy.io\n",
      "mat = scipy.io.loadmat( f )\n",
      "\n",
      "sequence = str(\"\")\n",
      "list_keys = mat.keys()\n",
      "for item in list_keys:\n",
      "    if item[0:1] is not \"_\":\n",
      "        key_name = item\n",
      "\n",
      "sequence = str(\"\")\n",
      "for eachtype in mat[key_name].dtype.fields.keys():\n",
      "    if eachtype=='sequence':\n",
      "        sequence = str(mat[key_name]['sequence'][0][0][0][0])"
     ],
     "language": "python",
     "metadata": {},
     "outputs": [],
     "prompt_number": 32
    },
    {
     "cell_type": "code",
     "collapsed": false,
     "input": [
      "sequence"
     ],
     "language": "python",
     "metadata": {},
     "outputs": [
      {
       "metadata": {},
       "output_type": "pyout",
       "prompt_number": 31,
       "text": [
        "'1'"
       ]
      }
     ],
     "prompt_number": 31
    }
   ],
   "metadata": {}
  }
 ]
}